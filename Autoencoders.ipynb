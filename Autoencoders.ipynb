{
 "cells": [
  {
   "cell_type": "markdown",
   "metadata": {
    "colab_type": "text",
    "id": "f5W9rkuBmBu9"
   },
   "source": [
    "# Autoencoders"
   ]
  },
  {
   "cell_type": "code",
   "execution_count": 1,
   "metadata": {
    "colab": {
     "base_uri": "https://localhost:8080/",
     "height": 35
    },
    "colab_type": "code",
    "executionInfo": {
     "elapsed": 2916,
     "status": "ok",
     "timestamp": 1563985755566,
     "user": {
      "displayName": "Abel Tadesse",
      "photoUrl": "",
      "userId": "10318903132357287716"
     },
     "user_tz": 420
    },
    "id": "y0vS0FyRB-5L",
    "outputId": "3c8facdd-e482-4784-cb2b-e03d3444263f"
   },
   "outputs": [
    {
     "data": {
      "text/plain": [
       "'1.13.1'"
      ]
     },
     "execution_count": 1,
     "metadata": {},
     "output_type": "execute_result"
    }
   ],
   "source": [
    "import tensorflow as tf\n",
    "tf.VERSION"
   ]
  },
  {
   "cell_type": "code",
   "execution_count": 5,
   "metadata": {
    "colab": {
     "base_uri": "https://localhost:8080/",
     "height": 35
    },
    "colab_type": "code",
    "executionInfo": {
     "elapsed": 4347,
     "status": "ok",
     "timestamp": 1563985763352,
     "user": {
      "displayName": "Abel Tadesse",
      "photoUrl": "",
      "userId": "10318903132357287716"
     },
     "user_tz": 420
    },
    "id": "kl9TPO8ZkY3S",
    "outputId": "dbf1aada-5eaa-41cc-9423-c1f6a49b2bcd"
   },
   "outputs": [],
   "source": [
    "from keras.layers import Dense, Input, Conv2D, LSTM, MaxPool2D, UpSampling2D\n",
    "from sklearn.model_selection import train_test_split\n",
    "from keras.callbacks import EarlyStopping\n",
    "from keras.utils import to_categorical\n",
    "from numpy import argmax, array_equal\n",
    "import matplotlib.pyplot as plt\n",
    "from keras.models import Model\n",
    "from imgaug import augmenters\n",
    "from random import randint\n",
    "import pandas as pd\n",
    "import numpy as np\n"
   ]
  },
  {
   "cell_type": "markdown",
   "metadata": {
    "colab_type": "text",
    "id": "vxnNcdj-2iHN"
   },
   "source": [
    "This is a short bash shell script to check if you have downloaded the required data i.e. mnist.npz. If so, it prints out a confirmation message. If not, it downloads the data."
   ]
  },
  {
   "cell_type": "markdown",
   "metadata": {
    "colab_type": "text",
    "id": "TXdXx3uAD-yJ"
   },
   "source": [
    "# Download Data"
   ]
  },
  {
   "cell_type": "code",
   "execution_count": 6,
   "metadata": {
    "colab": {
     "base_uri": "https://localhost:8080/",
     "height": 35
    },
    "colab_type": "code",
    "executionInfo": {
     "elapsed": 1185,
     "status": "ok",
     "timestamp": 1563985790325,
     "user": {
      "displayName": "Abel Tadesse",
      "photoUrl": "",
      "userId": "10318903132357287716"
     },
     "user_tz": 420
    },
    "id": "RCAaS_-x11jw",
    "outputId": "650ebfe2-819c-4f45-b17f-f8b5faa68eb1"
   },
   "outputs": [],
   "source": [
    "%%bash\n",
    "FILE=mnist.npz\n",
    "if test -f \"$FILE\"; then\n",
    "  echo \"$FILE exists\"\n",
    "else \n",
    "  wget -q https://storage.googleapis.com/tensorflow/tf-keras-datasets/mnist.npz\n",
    "fi"
   ]
  },
  {
   "cell_type": "code",
   "execution_count": 7,
   "metadata": {
    "colab": {},
    "colab_type": "code",
    "id": "Ws-232oRkm32"
   },
   "outputs": [],
   "source": [
    "def load_data(path):\n",
    "    with np.load(path) as f:\n",
    "        x_train, y_train = f['x_train'], f['y_train']\n",
    "        x_test, y_test = f['x_test'], f['y_test']\n",
    "        return (x_train, y_train), (x_test, y_test)"
   ]
  },
  {
   "cell_type": "code",
   "execution_count": 8,
   "metadata": {
    "colab": {},
    "colab_type": "code",
    "id": "sOjlzrQcmnx-"
   },
   "outputs": [],
   "source": [
    "(x_train, y_train), (x_test, y_test) = load_data('./mnist.npz')"
   ]
  },
  {
   "cell_type": "code",
   "execution_count": 9,
   "metadata": {
    "colab": {
     "base_uri": "https://localhost:8080/",
     "height": 53
    },
    "colab_type": "code",
    "executionInfo": {
     "elapsed": 1215,
     "status": "ok",
     "timestamp": 1563985898332,
     "user": {
      "displayName": "Abel Tadesse",
      "photoUrl": "",
      "userId": "10318903132357287716"
     },
     "user_tz": 420
    },
    "id": "2WdkcVjp5Ulz",
    "outputId": "d436d2e8-1553-40fe-f3bb-2da45908cf12"
   },
   "outputs": [
    {
     "name": "stdout",
     "output_type": "stream",
     "text": [
      "(60000, 784)\n",
      "(10000, 784)\n"
     ]
    }
   ],
   "source": [
    "x_train = x_train.astype('float32') / 255\n",
    "x_test = x_test.astype('float32') / 255\n",
    "x_train = x_train.reshape((len(x_train), np.prod(x_train.shape[1:])))\n",
    "x_test = x_test.reshape((len(x_test), np.prod(x_test.shape[1:])))\n",
    "print(x_train.shape)\n",
    "print(x_test.shape)"
   ]
  },
  {
   "cell_type": "markdown",
   "metadata": {
    "colab_type": "text",
    "id": "Q1OTBI25FAXm"
   },
   "source": [
    "# Autoencoder Model 1"
   ]
  },
  {
   "cell_type": "markdown",
   "metadata": {
    "colab_type": "text",
    "id": "WWab3r6nrihv"
   },
   "source": [
    "Below is an example of a simple autoencoder that first maps the 784 dimensional input image to a 32 dimensional latent representation and then attempts to reconstruct the 784 dimensional input image from the 32 dimensional encoded representation. "
   ]
  },
  {
   "cell_type": "code",
   "execution_count": 10,
   "metadata": {
    "colab": {},
    "colab_type": "code",
    "id": "2XR6JLDZ9Cym"
   },
   "outputs": [
    {
     "name": "stdout",
     "output_type": "stream",
     "text": [
      "WARNING:tensorflow:From /home/abel/anaconda3/envs/projects/lib/python3.6/site-packages/tensorflow/python/framework/op_def_library.py:263: colocate_with (from tensorflow.python.framework.ops) is deprecated and will be removed in a future version.\n",
      "Instructions for updating:\n",
      "Colocations handled automatically by placer.\n"
     ]
    }
   ],
   "source": [
    "latent_dim = 32\n",
    "\n",
    "## input layer\n",
    "input_layer = Input(shape=(784,))\n",
    "\n",
    "## latent view\n",
    "latent_view   = Dense(latent_dim, activation='relu')(input_layer)\n",
    "\n",
    "## decoding architecture\n",
    "\n",
    "## output layer\n",
    "output_layer  = Dense(784)(latent_view)\n",
    "\n",
    "autoencoder = Model(input_layer, output_layer)\n",
    "\n"
   ]
  },
  {
   "cell_type": "markdown",
   "metadata": {
    "colab_type": "text",
    "id": "nJaEyjNe0k6W"
   },
   "source": [
    "We can also define the encoder and decoder as individual models "
   ]
  },
  {
   "cell_type": "code",
   "execution_count": 11,
   "metadata": {
    "colab": {
     "base_uri": "https://localhost:8080/",
     "height": 251
    },
    "colab_type": "code",
    "executionInfo": {
     "elapsed": 1205,
     "status": "ok",
     "timestamp": 1563985904531,
     "user": {
      "displayName": "Abel Tadesse",
      "photoUrl": "",
      "userId": "10318903132357287716"
     },
     "user_tz": 420
    },
    "id": "chTTzNNA1ZSJ",
    "outputId": "05dac2a8-7d94-4231-e853-42acbfa71ec0"
   },
   "outputs": [
    {
     "name": "stdout",
     "output_type": "stream",
     "text": [
      "_________________________________________________________________\n",
      "Layer (type)                 Output Shape              Param #   \n",
      "=================================================================\n",
      "input_1 (InputLayer)         (None, 784)               0         \n",
      "_________________________________________________________________\n",
      "dense_1 (Dense)              (None, 32)                25120     \n",
      "_________________________________________________________________\n",
      "dense_2 (Dense)              (None, 784)               25872     \n",
      "=================================================================\n",
      "Total params: 50,992\n",
      "Trainable params: 50,992\n",
      "Non-trainable params: 0\n",
      "_________________________________________________________________\n"
     ]
    }
   ],
   "source": [
    "autoencoder.compile(optimizer='adam', loss='mse')\n",
    "autoencoder.summary()"
   ]
  },
  {
   "cell_type": "code",
   "execution_count": 12,
   "metadata": {
    "colab": {
     "base_uri": "https://localhost:8080/",
     "height": 1000
    },
    "colab_type": "code",
    "executionInfo": {
     "elapsed": 25225,
     "status": "ok",
     "timestamp": 1563985931008,
     "user": {
      "displayName": "Abel Tadesse",
      "photoUrl": "",
      "userId": "10318903132357287716"
     },
     "user_tz": 420
    },
    "id": "SkfBb8111Uey",
    "outputId": "fb58301a-e38a-4489-f9c7-38d44e3ddae1"
   },
   "outputs": [
    {
     "name": "stdout",
     "output_type": "stream",
     "text": [
      "WARNING:tensorflow:From /home/abel/anaconda3/envs/projects/lib/python3.6/site-packages/tensorflow/python/ops/math_ops.py:3066: to_int32 (from tensorflow.python.ops.math_ops) is deprecated and will be removed in a future version.\n",
      "Instructions for updating:\n",
      "Use tf.cast instead.\n",
      "Train on 60000 samples, validate on 10000 samples\n",
      "Epoch 1/50\n",
      "60000/60000 [==============================] - 3s 58us/step - loss: 0.0907 - val_loss: 0.0666\n",
      "Epoch 2/50\n",
      "60000/60000 [==============================] - 1s 10us/step - loss: 0.0614 - val_loss: 0.0559\n",
      "Epoch 3/50\n",
      "60000/60000 [==============================] - 1s 11us/step - loss: 0.0507 - val_loss: 0.0449\n",
      "Epoch 4/50\n",
      "60000/60000 [==============================] - 1s 11us/step - loss: 0.0420 - val_loss: 0.0388\n",
      "Epoch 5/50\n",
      "60000/60000 [==============================] - 1s 10us/step - loss: 0.0374 - val_loss: 0.0354\n",
      "Epoch 6/50\n",
      "60000/60000 [==============================] - 1s 10us/step - loss: 0.0345 - val_loss: 0.0329\n",
      "Epoch 7/50\n",
      "60000/60000 [==============================] - 1s 10us/step - loss: 0.0321 - val_loss: 0.0302\n",
      "Epoch 8/50\n",
      "60000/60000 [==============================] - 1s 10us/step - loss: 0.0295 - val_loss: 0.0280\n",
      "Epoch 9/50\n",
      "60000/60000 [==============================] - 1s 10us/step - loss: 0.0276 - val_loss: 0.0264\n",
      "Epoch 10/50\n",
      "60000/60000 [==============================] - 1s 10us/step - loss: 0.0261 - val_loss: 0.0251\n",
      "Epoch 11/50\n",
      "60000/60000 [==============================] - 0s 8us/step - loss: 0.0250 - val_loss: 0.0240\n",
      "Epoch 12/50\n",
      "60000/60000 [==============================] - 1s 10us/step - loss: 0.0241 - val_loss: 0.0232\n",
      "Epoch 13/50\n",
      "60000/60000 [==============================] - 1s 11us/step - loss: 0.0234 - val_loss: 0.0226\n",
      "Epoch 14/50\n",
      "60000/60000 [==============================] - 1s 10us/step - loss: 0.0228 - val_loss: 0.0221\n",
      "Epoch 15/50\n",
      "60000/60000 [==============================] - 1s 11us/step - loss: 0.0223 - val_loss: 0.0217\n",
      "Epoch 16/50\n",
      "60000/60000 [==============================] - 1s 11us/step - loss: 0.0220 - val_loss: 0.0214\n",
      "Epoch 17/50\n",
      "60000/60000 [==============================] - 1s 10us/step - loss: 0.0217 - val_loss: 0.0212\n",
      "Epoch 18/50\n",
      "60000/60000 [==============================] - 1s 10us/step - loss: 0.0215 - val_loss: 0.0210\n",
      "Epoch 19/50\n",
      "60000/60000 [==============================] - 1s 10us/step - loss: 0.0214 - val_loss: 0.0209\n",
      "Epoch 20/50\n",
      "60000/60000 [==============================] - 1s 11us/step - loss: 0.0213 - val_loss: 0.0208\n",
      "Epoch 21/50\n",
      "60000/60000 [==============================] - 1s 12us/step - loss: 0.0212 - val_loss: 0.0207\n",
      "Epoch 22/50\n",
      "60000/60000 [==============================] - 0s 6us/step - loss: 0.0211 - val_loss: 0.0206\n",
      "Epoch 23/50\n",
      "60000/60000 [==============================] - 1s 10us/step - loss: 0.0210 - val_loss: 0.0205\n",
      "Epoch 24/50\n",
      "60000/60000 [==============================] - 1s 8us/step - loss: 0.0208 - val_loss: 0.0203\n",
      "Epoch 25/50\n",
      "60000/60000 [==============================] - 1s 12us/step - loss: 0.0206 - val_loss: 0.0201\n",
      "Epoch 26/50\n",
      "60000/60000 [==============================] - 1s 10us/step - loss: 0.0205 - val_loss: 0.0200\n",
      "Epoch 27/50\n",
      "60000/60000 [==============================] - 1s 11us/step - loss: 0.0204 - val_loss: 0.0199\n",
      "Epoch 28/50\n",
      "60000/60000 [==============================] - 1s 11us/step - loss: 0.0201 - val_loss: 0.0195\n",
      "Epoch 29/50\n",
      "60000/60000 [==============================] - 1s 11us/step - loss: 0.0199 - val_loss: 0.0194\n",
      "Epoch 30/50\n",
      "60000/60000 [==============================] - 1s 11us/step - loss: 0.0197 - val_loss: 0.0191\n",
      "Epoch 31/50\n",
      "60000/60000 [==============================] - 1s 11us/step - loss: 0.0195 - val_loss: 0.0190\n",
      "Epoch 32/50\n",
      "60000/60000 [==============================] - 1s 10us/step - loss: 0.0194 - val_loss: 0.0189\n",
      "Epoch 33/50\n",
      "60000/60000 [==============================] - 1s 12us/step - loss: 0.0193 - val_loss: 0.0189\n",
      "Epoch 34/50\n",
      "60000/60000 [==============================] - 0s 8us/step - loss: 0.0193 - val_loss: 0.0188\n",
      "Epoch 35/50\n",
      "60000/60000 [==============================] - 0s 5us/step - loss: 0.0193 - val_loss: 0.0188\n",
      "Epoch 36/50\n",
      "60000/60000 [==============================] - 1s 9us/step - loss: 0.0193 - val_loss: 0.0188\n",
      "Epoch 37/50\n",
      "60000/60000 [==============================] - 1s 11us/step - loss: 0.0193 - val_loss: 0.0188\n",
      "Epoch 38/50\n",
      "60000/60000 [==============================] - 0s 8us/step - loss: 0.0192 - val_loss: 0.0188\n",
      "Epoch 39/50\n",
      "60000/60000 [==============================] - 1s 10us/step - loss: 0.0192 - val_loss: 0.0188\n",
      "Epoch 40/50\n",
      "60000/60000 [==============================] - 0s 8us/step - loss: 0.0192 - val_loss: 0.0188\n",
      "Epoch 41/50\n",
      "60000/60000 [==============================] - 1s 10us/step - loss: 0.0192 - val_loss: 0.0188\n",
      "Epoch 42/50\n",
      "60000/60000 [==============================] - 1s 10us/step - loss: 0.0192 - val_loss: 0.0188\n",
      "Epoch 43/50\n",
      "60000/60000 [==============================] - 1s 10us/step - loss: 0.0192 - val_loss: 0.0187\n",
      "Epoch 44/50\n",
      "60000/60000 [==============================] - 1s 11us/step - loss: 0.0192 - val_loss: 0.0187\n",
      "Epoch 45/50\n",
      "60000/60000 [==============================] - 1s 12us/step - loss: 0.0192 - val_loss: 0.0187\n",
      "Epoch 46/50\n",
      "60000/60000 [==============================] - 1s 11us/step - loss: 0.0192 - val_loss: 0.0187\n",
      "Epoch 47/50\n",
      "60000/60000 [==============================] - 1s 12us/step - loss: 0.0192 - val_loss: 0.0187\n",
      "Epoch 48/50\n",
      "60000/60000 [==============================] - 1s 11us/step - loss: 0.0192 - val_loss: 0.0187\n",
      "Epoch 49/50\n",
      "60000/60000 [==============================] - 1s 9us/step - loss: 0.0192 - val_loss: 0.0187\n",
      "Epoch 50/50\n",
      "60000/60000 [==============================] - 1s 10us/step - loss: 0.0191 - val_loss: 0.0187\n"
     ]
    },
    {
     "data": {
      "text/plain": [
       "<keras.callbacks.History at 0x7f76c47aefd0>"
      ]
     },
     "execution_count": 12,
     "metadata": {},
     "output_type": "execute_result"
    }
   ],
   "source": [
    "# Training for 50 epochs\n",
    "early_stopping = EarlyStopping(monitor='val_loss', min_delta=0, patience=10, verbose=1, mode='auto')\n",
    "autoencoder.fit(x_train, x_train, epochs=50, batch_size=2048, validation_data=(x_test, x_test), callbacks=[early_stopping])"
   ]
  },
  {
   "cell_type": "code",
   "execution_count": 13,
   "metadata": {
    "colab": {},
    "colab_type": "code",
    "id": "ACRu_c12_Pj-"
   },
   "outputs": [],
   "source": [
    "decoded_imgs = autoencoder.predict(x_test)"
   ]
  },
  {
   "cell_type": "code",
   "execution_count": 14,
   "metadata": {
    "colab": {
     "base_uri": "https://localhost:8080/",
     "height": 172
    },
    "colab_type": "code",
    "executionInfo": {
     "elapsed": 1608,
     "status": "ok",
     "timestamp": 1563985944293,
     "user": {
      "displayName": "Abel Tadesse",
      "photoUrl": "",
      "userId": "10318903132357287716"
     },
     "user_tz": 420
    },
    "id": "5VbykAcH5nUL",
    "outputId": "d3a78d75-0cfa-45a2-f79f-042cffc00ac0"
   },
   "outputs": [
    {
     "data": {
      "image/png": "[encoded data removed]",
      "text/plain": [
       "<Figure size 1440x288 with 20 Axes>"
      ]
     },
     "metadata": {
      "needs_background": "light"
     },
     "output_type": "display_data"
    }
   ],
   "source": [
    "# using Matplotlib to plot the images\n",
    "n = 10 # how many images we will display\n",
    "plt.figure(figsize=(20, 4))\n",
    "for i in range(n):\n",
    "    # display original\n",
    "    ax = plt.subplot(3, n, i + 1)\n",
    "    plt.imshow(x_test[i].reshape(28, 28))\n",
    "    plt.gray()\n",
    "    ax.get_xaxis().set_visible(False)\n",
    "    ax.get_yaxis().set_visible(False)\n",
    "    \n",
    "    \n",
    "    # display reconstruction\n",
    "    ax = plt.subplot(3, n, i + 1 + n)\n",
    "    plt.imshow(decoded_imgs[i].reshape(28, 28))\n",
    "    plt.gray()\n",
    "    ax.get_xaxis().set_visible(False)\n",
    "    ax.get_yaxis().set_visible(False)\n",
    "\n",
    "plt.show()"
   ]
  },
  {
   "cell_type": "markdown",
   "metadata": {
    "colab_type": "text",
    "id": "iLYrydJwFIMk"
   },
   "source": [
    "# Applications"
   ]
  },
  {
   "cell_type": "markdown",
   "metadata": {
    "colab_type": "text",
    "id": "pvY97WJjEuWQ"
   },
   "source": [
    "There are many applications to autoencoders."
   ]
  },
  {
   "cell_type": "markdown",
   "metadata": {
    "colab_type": "text",
    "id": "v11dN8UxE-RE"
   },
   "source": [
    "## Image Compression"
   ]
  },
  {
   "cell_type": "markdown",
   "metadata": {
    "colab_type": "text",
    "id": "9eqzR_hVFck8"
   },
   "source": [
    "To see how autoencoders can be used to compress images, it is easier to define the encoder and decoder halves of the autoencoder as individual models."
   ]
  },
  {
   "cell_type": "code",
   "execution_count": 15,
   "metadata": {
    "colab": {
     "base_uri": "https://localhost:8080/",
     "height": 647
    },
    "colab_type": "code",
    "executionInfo": {
     "elapsed": 624,
     "status": "ok",
     "timestamp": 1563947846572,
     "user": {
      "displayName": "Abel Tadesse",
      "photoUrl": "",
      "userId": "10318903132357287716"
     },
     "user_tz": 420
    },
    "id": "FeukWbOS6NY_",
    "outputId": "b6b38e60-d951-4200-db42-5e6ffa6710c1"
   },
   "outputs": [
    {
     "name": "stdout",
     "output_type": "stream",
     "text": [
      "_________________________________________________________________\n",
      "Layer (type)                 Output Shape              Param #   \n",
      "=================================================================\n",
      "encoder_input (InputLayer)   (None, 784)               0         \n",
      "_________________________________________________________________\n",
      "latent_vector (Dense)        (None, 36)                28260     \n",
      "=================================================================\n",
      "Total params: 28,260\n",
      "Trainable params: 28,260\n",
      "Non-trainable params: 0\n",
      "_________________________________________________________________\n",
      "_________________________________________________________________\n",
      "Layer (type)                 Output Shape              Param #   \n",
      "=================================================================\n",
      "decoder_input (InputLayer)   (None, 36)                0         \n",
      "_________________________________________________________________\n",
      "dense_3 (Dense)              (None, 784)               29008     \n",
      "=================================================================\n",
      "Total params: 29,008\n",
      "Trainable params: 29,008\n",
      "Non-trainable params: 0\n",
      "_________________________________________________________________\n",
      "_________________________________________________________________\n",
      "Layer (type)                 Output Shape              Param #   \n",
      "=================================================================\n",
      "encoder_input (InputLayer)   (None, 784)               0         \n",
      "_________________________________________________________________\n",
      "encoder (Model)              (None, 36)                28260     \n",
      "_________________________________________________________________\n",
      "decoder (Model)              (None, 784)               29008     \n",
      "=================================================================\n",
      "Total params: 57,268\n",
      "Trainable params: 57,268\n",
      "Non-trainable params: 0\n",
      "_________________________________________________________________\n"
     ]
    }
   ],
   "source": [
    "latent_dim = 36\n",
    "\n",
    "inputs = Input(shape=(784,), name='encoder_input')\n",
    "latent_view = Dense(latent_dim, name='latent_vector')(inputs)\n",
    "\n",
    "# Instantiate Encoder Model\n",
    "encoder = Model(inputs, latent_view, name='encoder')\n",
    "encoder.summary()\n",
    "\n",
    "# Build the Decoder Model\n",
    "latent_inputs = Input(shape=(latent_dim,), name='decoder_input')\n",
    "decoded = Dense(784)(latent_inputs)\n",
    "\n",
    "# Instantiate Decoder Model\n",
    "decoder = Model(latent_inputs, decoded, name='decoder')\n",
    "decoder.summary()\n",
    "\n",
    "# Autoencoder = Encoder + Decoder\n",
    "# Instantiate Autoencoder Model\n",
    "autoencoder = Model(inputs, decoder(encoder(inputs)), name='autoencoder')\n",
    "autoencoder.summary()\n",
    "\n",
    "autoencoder.compile(loss='mse', optimizer='adam')"
   ]
  },
  {
   "cell_type": "code",
   "execution_count": 16,
   "metadata": {
    "colab": {
     "base_uri": "https://localhost:8080/",
     "height": 1000
    },
    "colab_type": "code",
    "executionInfo": {
     "elapsed": 21192,
     "status": "ok",
     "timestamp": 1563947868549,
     "user": {
      "displayName": "Abel Tadesse",
      "photoUrl": "",
      "userId": "10318903132357287716"
     },
     "user_tz": 420
    },
    "id": "LhCh5o9MjNXi",
    "outputId": "c4079b8f-b861-407b-eb6d-b44ac3019979"
   },
   "outputs": [
    {
     "name": "stdout",
     "output_type": "stream",
     "text": [
      "Train on 60000 samples, validate on 10000 samples\n",
      "Epoch 1/50\n",
      "60000/60000 [==============================] - 1s 9us/step - loss: 0.0887 - val_loss: 0.0632\n",
      "Epoch 2/50\n",
      "60000/60000 [==============================] - 1s 10us/step - loss: 0.0574 - val_loss: 0.0499\n",
      "Epoch 3/50\n",
      "60000/60000 [==============================] - 0s 7us/step - loss: 0.0445 - val_loss: 0.0393\n",
      "Epoch 4/50\n",
      "60000/60000 [==============================] - 1s 10us/step - loss: 0.0368 - val_loss: 0.0338\n",
      "Epoch 5/50\n",
      "60000/60000 [==============================] - 1s 10us/step - loss: 0.0323 - val_loss: 0.0300\n",
      "Epoch 6/50\n",
      "60000/60000 [==============================] - 1s 10us/step - loss: 0.0289 - val_loss: 0.0269\n",
      "Epoch 7/50\n",
      "60000/60000 [==============================] - 1s 10us/step - loss: 0.0261 - val_loss: 0.0245\n",
      "Epoch 8/50\n",
      "60000/60000 [==============================] - 1s 10us/step - loss: 0.0240 - val_loss: 0.0227\n",
      "Epoch 9/50\n",
      "60000/60000 [==============================] - 1s 11us/step - loss: 0.0224 - val_loss: 0.0213\n",
      "Epoch 10/50\n",
      "60000/60000 [==============================] - 1s 11us/step - loss: 0.0211 - val_loss: 0.0201\n",
      "Epoch 11/50\n",
      "60000/60000 [==============================] - 1s 10us/step - loss: 0.0201 - val_loss: 0.0192\n",
      "Epoch 12/50\n",
      "60000/60000 [==============================] - 1s 12us/step - loss: 0.0192 - val_loss: 0.0184\n",
      "Epoch 13/50\n",
      "60000/60000 [==============================] - 1s 10us/step - loss: 0.0186 - val_loss: 0.0178\n",
      "Epoch 14/50\n",
      "60000/60000 [==============================] - 1s 11us/step - loss: 0.0180 - val_loss: 0.0173\n",
      "Epoch 15/50\n",
      "60000/60000 [==============================] - 1s 11us/step - loss: 0.0176 - val_loss: 0.0170\n",
      "Epoch 16/50\n",
      "60000/60000 [==============================] - 1s 10us/step - loss: 0.0172 - val_loss: 0.0167\n",
      "Epoch 17/50\n",
      "60000/60000 [==============================] - 1s 9us/step - loss: 0.0170 - val_loss: 0.0164\n",
      "Epoch 18/50\n",
      "60000/60000 [==============================] - 1s 9us/step - loss: 0.0168 - val_loss: 0.0163\n",
      "Epoch 19/50\n",
      "60000/60000 [==============================] - 1s 9us/step - loss: 0.0166 - val_loss: 0.0161\n",
      "Epoch 20/50\n",
      "60000/60000 [==============================] - 0s 7us/step - loss: 0.0165 - val_loss: 0.0160\n",
      "Epoch 21/50\n",
      "60000/60000 [==============================] - 1s 10us/step - loss: 0.0164 - val_loss: 0.0159\n",
      "Epoch 22/50\n",
      "60000/60000 [==============================] - 1s 10us/step - loss: 0.0163 - val_loss: 0.0158\n",
      "Epoch 23/50\n",
      "60000/60000 [==============================] - 1s 10us/step - loss: 0.0162 - val_loss: 0.0158\n",
      "Epoch 24/50\n",
      "60000/60000 [==============================] - 1s 9us/step - loss: 0.0162 - val_loss: 0.0157\n",
      "Epoch 25/50\n",
      "60000/60000 [==============================] - 1s 10us/step - loss: 0.0161 - val_loss: 0.0157\n",
      "Epoch 26/50\n",
      "60000/60000 [==============================] - 1s 10us/step - loss: 0.0161 - val_loss: 0.0157\n",
      "Epoch 27/50\n",
      "60000/60000 [==============================] - 1s 10us/step - loss: 0.0161 - val_loss: 0.0156\n",
      "Epoch 28/50\n",
      "60000/60000 [==============================] - 1s 9us/step - loss: 0.0160 - val_loss: 0.0156\n",
      "Epoch 29/50\n",
      "60000/60000 [==============================] - 1s 10us/step - loss: 0.0160 - val_loss: 0.0156\n",
      "Epoch 30/50\n",
      "60000/60000 [==============================] - 1s 11us/step - loss: 0.0160 - val_loss: 0.0156\n",
      "Epoch 31/50\n",
      "60000/60000 [==============================] - 1s 11us/step - loss: 0.0160 - val_loss: 0.0155\n",
      "Epoch 32/50\n",
      "60000/60000 [==============================] - 1s 10us/step - loss: 0.0159 - val_loss: 0.0155\n",
      "Epoch 33/50\n",
      "60000/60000 [==============================] - 1s 10us/step - loss: 0.0159 - val_loss: 0.0155\n",
      "Epoch 34/50\n",
      "60000/60000 [==============================] - 1s 12us/step - loss: 0.0159 - val_loss: 0.0155\n",
      "Epoch 35/50\n",
      "60000/60000 [==============================] - 1s 10us/step - loss: 0.0159 - val_loss: 0.0155\n",
      "Epoch 36/50\n",
      "60000/60000 [==============================] - 1s 10us/step - loss: 0.0159 - val_loss: 0.0155\n",
      "Epoch 37/50\n",
      "60000/60000 [==============================] - 1s 10us/step - loss: 0.0159 - val_loss: 0.0154\n",
      "Epoch 38/50\n",
      "60000/60000 [==============================] - 1s 11us/step - loss: 0.0159 - val_loss: 0.0154\n",
      "Epoch 39/50\n",
      "60000/60000 [==============================] - 1s 11us/step - loss: 0.0158 - val_loss: 0.0154\n",
      "Epoch 40/50\n",
      "60000/60000 [==============================] - 1s 9us/step - loss: 0.0158 - val_loss: 0.0154\n",
      "Epoch 41/50\n",
      "60000/60000 [==============================] - 1s 9us/step - loss: 0.0158 - val_loss: 0.0154\n",
      "Epoch 42/50\n",
      "60000/60000 [==============================] - 1s 9us/step - loss: 0.0158 - val_loss: 0.0154\n",
      "Epoch 43/50\n",
      "60000/60000 [==============================] - 1s 10us/step - loss: 0.0158 - val_loss: 0.0154\n",
      "Epoch 44/50\n",
      "60000/60000 [==============================] - 1s 9us/step - loss: 0.0158 - val_loss: 0.0154\n",
      "Epoch 45/50\n",
      "60000/60000 [==============================] - 1s 9us/step - loss: 0.0158 - val_loss: 0.0154\n",
      "Epoch 46/50\n",
      "60000/60000 [==============================] - 1s 9us/step - loss: 0.0158 - val_loss: 0.0154\n",
      "Epoch 47/50\n",
      "60000/60000 [==============================] - 1s 9us/step - loss: 0.0158 - val_loss: 0.0154\n",
      "Epoch 48/50\n",
      "60000/60000 [==============================] - 1s 10us/step - loss: 0.0158 - val_loss: 0.0154\n",
      "Epoch 49/50\n",
      "60000/60000 [==============================] - 1s 10us/step - loss: 0.0158 - val_loss: 0.0154\n",
      "Epoch 50/50\n",
      "60000/60000 [==============================] - 1s 10us/step - loss: 0.0158 - val_loss: 0.0154\n"
     ]
    },
    {
     "data": {
      "text/plain": [
       "<keras.callbacks.History at 0x7f76c330bb00>"
      ]
     },
     "execution_count": 16,
     "metadata": {},
     "output_type": "execute_result"
    }
   ],
   "source": [
    "# Training for 50 epochs\n",
    "early_stopping = EarlyStopping(monitor='val_loss', min_delta=0, patience=10, verbose=1, mode='auto')\n",
    "autoencoder.fit(x_train, x_train, epochs=50, batch_size=2048, validation_data=(x_test, x_test), callbacks=[early_stopping])"
   ]
  },
  {
   "cell_type": "code",
   "execution_count": 17,
   "metadata": {
    "colab": {},
    "colab_type": "code",
    "id": "sUJfxl3qiukY"
   },
   "outputs": [],
   "source": [
    "encoded_imgs = encoder.predict(x_test)\n",
    "decoded_imgs = decoder.predict(encoded_imgs)"
   ]
  },
  {
   "cell_type": "code",
   "execution_count": 18,
   "metadata": {
    "colab": {
     "base_uri": "https://localhost:8080/",
     "height": 317
    },
    "colab_type": "code",
    "executionInfo": {
     "elapsed": 2259,
     "status": "ok",
     "timestamp": 1563949558247,
     "user": {
      "displayName": "Abel Tadesse",
      "photoUrl": "",
      "userId": "10318903132357287716"
     },
     "user_tz": 420
    },
    "id": "Jr_tJH57H8kV",
    "outputId": "f02e3910-c913-494b-b0c8-dbe9ecaca633"
   },
   "outputs": [
    {
     "data": {
      "image/png": "[encoded data removed]",
      "text/plain": [
       "<Figure size 1440x288 with 33 Axes>"
      ]
     },
     "metadata": {
      "needs_background": "light"
     },
     "output_type": "display_data"
    }
   ],
   "source": [
    "n = 10 # how many images we will display\n",
    "#plt.figure(figsize=(20, 4))\n",
    "fig, axes = plt.subplots( figsize=(20,4) , nrows=3, ncols=1, sharey=False) \n",
    "axes[0].set_title('Original Images', fontsize=16)\n",
    "axes[0].axis('off')\n",
    "axes[1].set_title('36 dimensional Latent Representation', fontsize=16)\n",
    "axes[1].axis('off')\n",
    "axes[2].set_title('Reconstructions', fontsize=16)\n",
    "axes[2].axis('off')\n",
    "\n",
    "\n",
    "for i in range(n):\n",
    "    # display original\n",
    "    ax = fig.add_subplot(3, n, i + 1)\n",
    "    ax.get_xaxis().set_visible(False)\n",
    "    ax.get_yaxis().set_visible(False)\n",
    "    plt.imshow(x_test[i].reshape(28, 28))\n",
    "    plt.gray()\n",
    "    \n",
    "    \n",
    "    \n",
    "    # display encoding\n",
    "    ax = fig.add_subplot(3, n, i + 1 + n)\n",
    "    plt.imshow(encoded_imgs[i].reshape(6, 6))\n",
    "    plt.gray()\n",
    "    ax.get_xaxis().set_visible(False)\n",
    "    ax.get_yaxis().set_visible(False)\n",
    "\n",
    "    \n",
    "    # display reconstruction\n",
    "    ax = fig.add_subplot(3, n, i + 1 + 2*n)\n",
    "    plt.imshow(decoded_imgs[i].reshape(28, 28))\n",
    "    plt.gray()\n",
    "    ax.get_xaxis().set_visible(False)\n",
    "    ax.get_yaxis().set_visible(False)\n",
    "\n",
    "\n",
    "fig.tight_layout()\n",
    "plt.show()"
   ]
  },
  {
   "cell_type": "markdown",
   "metadata": {
    "colab_type": "text",
    "id": "kDguvu3GowpE"
   },
   "source": [
    "## Denoising"
   ]
  },
  {
   "cell_type": "code",
   "execution_count": 19,
   "metadata": {
    "colab": {},
    "colab_type": "code",
    "id": "1ces5k7Po1D6"
   },
   "outputs": [],
   "source": [
    "# Reshape the train and test array for augmenter\n",
    "x_train = x_train.reshape(-1, 28, 28, 1)  # becomes of shape (60000, 28, 28, 1)\n",
    "x_test = x_test.reshape(-1, 28, 28, 1)    # becomes of shape (10000, 28, 28, 1)\n",
    "  \n",
    "noise = augmenters.SaltAndPepper(0.6)\n",
    "seq_object = augmenters.Sequential([noise])\n",
    "\n",
    "x_train_n = seq_object.augment_images(x_train * 255) / 255\n",
    "x_test_n = seq_object.augment_images(x_test * 255) / 255"
   ]
  },
  {
   "cell_type": "markdown",
   "metadata": {
    "colab_type": "text",
    "id": "6s5hKlQ5pGkR"
   },
   "source": [
    "Before we add noise, the images look like this."
   ]
  },
  {
   "cell_type": "code",
   "execution_count": 20,
   "metadata": {
    "colab": {
     "base_uri": "https://localhost:8080/",
     "height": 244
    },
    "colab_type": "code",
    "executionInfo": {
     "elapsed": 2318,
     "status": "ok",
     "timestamp": 1563988043683,
     "user": {
      "displayName": "Abel Tadesse",
      "photoUrl": "",
      "userId": "10318903132357287716"
     },
     "user_tz": 420
    },
    "id": "O2lGl4O8o-8Z",
    "outputId": "90db951f-5b7c-4930-ed8b-021df060c85b"
   },
   "outputs": [
    {
     "data": {
      "image/png": "[encoded data removed]",
      "text/plain": [
       "<Figure size 1440x288 with 5 Axes>"
      ]
     },
     "metadata": {
      "needs_background": "light"
     },
     "output_type": "display_data"
    }
   ],
   "source": [
    "f, ax = plt.subplots(figsize=(20,4), nrows = 1, ncols=5)\n",
    "for i in range(5,10):\n",
    "    ax[i-5].imshow(x_train[i].reshape(28, 28))\n",
    "plt.show()"
   ]
  },
  {
   "cell_type": "markdown",
   "metadata": {
    "colab_type": "text",
    "id": "2oCmCMFrqYkx"
   },
   "source": [
    "After we add noise, the images look like this."
   ]
  },
  {
   "cell_type": "code",
   "execution_count": 21,
   "metadata": {
    "colab": {
     "base_uri": "https://localhost:8080/",
     "height": 244
    },
    "colab_type": "code",
    "executionInfo": {
     "elapsed": 1565,
     "status": "ok",
     "timestamp": 1563988046729,
     "user": {
      "displayName": "Abel Tadesse",
      "photoUrl": "",
      "userId": "10318903132357287716"
     },
     "user_tz": 420
    },
    "id": "27UBSEEOpK2z",
    "outputId": "f2803a3f-3fd6-478a-b3bc-ce1eb5910848"
   },
   "outputs": [
    {
     "data": {
      "image/png": "[encoded data removed]",
      "text/plain": [
       "<Figure size 1440x288 with 5 Axes>"
      ]
     },
     "metadata": {
      "needs_background": "light"
     },
     "output_type": "display_data"
    }
   ],
   "source": [
    "f, ax = plt.subplots(figsize=(20,4), nrows = 1, ncols=5)\n",
    "for i in range(5,10):\n",
    "    ax[i-5].imshow(x_train_n[i].reshape(28, 28))\n",
    "plt.show()"
   ]
  },
  {
   "cell_type": "markdown",
   "metadata": {
    "colab_type": "text",
    "id": "50GnzfOWrOSu"
   },
   "source": [
    "For our denoising autoencoder, we will need a more sophisticated architecture of Conv2D and MaxPool2D layers."
   ]
  },
  {
   "cell_type": "markdown",
   "metadata": {
    "colab_type": "text",
    "id": "mTohqWmn4mTt"
   },
   "source": [
    "## Autoencoder Model 2"
   ]
  },
  {
   "cell_type": "code",
   "execution_count": 22,
   "metadata": {
    "colab": {},
    "colab_type": "code",
    "id": "YPD93SbIqpKh"
   },
   "outputs": [],
   "source": [
    "# input layer\n",
    "input_layer = Input(shape=(28, 28, 1))\n",
    "\n",
    "# encoding architecture\n",
    "encoded_layer1 = Conv2D(64, (3, 3), activation='relu', padding='same')(input_layer)\n",
    "encoded_layer1 = MaxPool2D( (2, 2), padding='same')(encoded_layer1)\n",
    "encoded_layer2 = Conv2D(32, (3, 3), activation='relu', padding='same')(encoded_layer1)\n",
    "encoded_layer2 = MaxPool2D( (2, 2), padding='same')(encoded_layer2)\n",
    "encoded_layer3 = Conv2D(16, (3, 3), activation='relu', padding='same')(encoded_layer2)\n",
    "latent_view    = MaxPool2D( (2, 2), padding='same')(encoded_layer3)\n",
    "\n",
    "# decoding architecture\n",
    "decoded_layer1 = Conv2D(16, (3, 3), activation='relu', padding='same')(latent_view)\n",
    "decoded_layer1 = UpSampling2D((2, 2))(decoded_layer1)\n",
    "decoded_layer2 = Conv2D(32, (3, 3), activation='relu', padding='same')(decoded_layer1)\n",
    "decoded_layer2 = UpSampling2D((2, 2))(decoded_layer2)\n",
    "decoded_layer3 = Conv2D(64, (3, 3), activation='relu')(decoded_layer2)\n",
    "decoded_layer3 = UpSampling2D((2, 2))(decoded_layer3)\n",
    "output_layer   = Conv2D(1, (3, 3), padding='same')(decoded_layer3)\n",
    "\n",
    "# compile the model\n",
    "denoise_autoencoder = Model(input_layer, output_layer)\n",
    "denoise_autoencoder.compile(optimizer='adam', loss='mse')"
   ]
  },
  {
   "cell_type": "code",
   "execution_count": 23,
   "metadata": {
    "colab": {
     "base_uri": "https://localhost:8080/",
     "height": 647
    },
    "colab_type": "code",
    "executionInfo": {
     "elapsed": 410,
     "status": "ok",
     "timestamp": 1563988047583,
     "user": {
      "displayName": "Abel Tadesse",
      "photoUrl": "",
      "userId": "10318903132357287716"
     },
     "user_tz": 420
    },
    "id": "0MvV5qQwrp-u",
    "outputId": "a3ad191b-97d3-423d-ccee-def0eff95a36"
   },
   "outputs": [
    {
     "name": "stdout",
     "output_type": "stream",
     "text": [
      "_________________________________________________________________\n",
      "Layer (type)                 Output Shape              Param #   \n",
      "=================================================================\n",
      "input_2 (InputLayer)         (None, 28, 28, 1)         0         \n",
      "_________________________________________________________________\n",
      "conv2d_1 (Conv2D)            (None, 28, 28, 64)        640       \n",
      "_________________________________________________________________\n",
      "max_pooling2d_1 (MaxPooling2 (None, 14, 14, 64)        0         \n",
      "_________________________________________________________________\n",
      "conv2d_2 (Conv2D)            (None, 14, 14, 32)        18464     \n",
      "_________________________________________________________________\n",
      "max_pooling2d_2 (MaxPooling2 (None, 7, 7, 32)          0         \n",
      "_________________________________________________________________\n",
      "conv2d_3 (Conv2D)            (None, 7, 7, 16)          4624      \n",
      "_________________________________________________________________\n",
      "max_pooling2d_3 (MaxPooling2 (None, 4, 4, 16)          0         \n",
      "_________________________________________________________________\n",
      "conv2d_4 (Conv2D)            (None, 4, 4, 16)          2320      \n",
      "_________________________________________________________________\n",
      "up_sampling2d_1 (UpSampling2 (None, 8, 8, 16)          0         \n",
      "_________________________________________________________________\n",
      "conv2d_5 (Conv2D)            (None, 8, 8, 32)          4640      \n",
      "_________________________________________________________________\n",
      "up_sampling2d_2 (UpSampling2 (None, 16, 16, 32)        0         \n",
      "_________________________________________________________________\n",
      "conv2d_6 (Conv2D)            (None, 14, 14, 64)        18496     \n",
      "_________________________________________________________________\n",
      "up_sampling2d_3 (UpSampling2 (None, 28, 28, 64)        0         \n",
      "_________________________________________________________________\n",
      "conv2d_7 (Conv2D)            (None, 28, 28, 1)         577       \n",
      "=================================================================\n",
      "Total params: 49,761\n",
      "Trainable params: 49,761\n",
      "Non-trainable params: 0\n",
      "_________________________________________________________________\n"
     ]
    }
   ],
   "source": [
    "denoise_autoencoder.summary()"
   ]
  },
  {
   "cell_type": "code",
   "execution_count": 24,
   "metadata": {
    "colab": {
     "base_uri": "https://localhost:8080/",
     "height": 395
    },
    "colab_type": "code",
    "executionInfo": {
     "elapsed": 74759,
     "status": "ok",
     "timestamp": 1563988122239,
     "user": {
      "displayName": "Abel Tadesse",
      "photoUrl": "",
      "userId": "10318903132357287716"
     },
     "user_tz": 420
    },
    "id": "b4zs0JGArrIr",
    "outputId": "65220d1a-a0e0-44c8-8a6e-74199ed53a0f"
   },
   "outputs": [
    {
     "name": "stdout",
     "output_type": "stream",
     "text": [
      "Train on 60000 samples, validate on 10000 samples\n",
      "Epoch 1/10\n",
      "60000/60000 [==============================] - 14s 240us/step - loss: 0.0763 - val_loss: 0.0682\n",
      "Epoch 2/10\n",
      "60000/60000 [==============================] - 9s 155us/step - loss: 0.0645 - val_loss: 0.0613\n",
      "Epoch 3/10\n",
      "60000/60000 [==============================] - 9s 155us/step - loss: 0.0562 - val_loss: 0.0528\n",
      "Epoch 4/10\n",
      "60000/60000 [==============================] - 9s 155us/step - loss: 0.0509 - val_loss: 0.0491\n",
      "Epoch 5/10\n",
      "60000/60000 [==============================] - 9s 156us/step - loss: 0.0477 - val_loss: 0.0459\n",
      "Epoch 6/10\n",
      "60000/60000 [==============================] - 9s 156us/step - loss: 0.0450 - val_loss: 0.0433\n",
      "Epoch 7/10\n",
      "60000/60000 [==============================] - 9s 155us/step - loss: 0.0429 - val_loss: 0.0414\n",
      "Epoch 8/10\n",
      "60000/60000 [==============================] - 9s 155us/step - loss: 0.0411 - val_loss: 0.0399\n",
      "Epoch 9/10\n",
      "60000/60000 [==============================] - 9s 155us/step - loss: 0.0397 - val_loss: 0.0385\n",
      "Epoch 10/10\n",
      "60000/60000 [==============================] - 9s 155us/step - loss: 0.0386 - val_loss: 0.0381\n"
     ]
    }
   ],
   "source": [
    "early_stopping = EarlyStopping(monitor='val_loss', min_delta=0, patience=10, verbose=5, mode='auto')\n",
    "history = denoise_autoencoder.fit(x_train_n, x_train, epochs=10, batch_size=2048, validation_data=(x_test_n, x_test), callbacks=[early_stopping])"
   ]
  },
  {
   "cell_type": "code",
   "execution_count": 25,
   "metadata": {
    "colab": {},
    "colab_type": "code",
    "id": "ueNg377ps8xe"
   },
   "outputs": [],
   "source": [
    "preds = denoise_autoencoder.predict(x_test_n[:10])"
   ]
  },
  {
   "cell_type": "code",
   "execution_count": 26,
   "metadata": {
    "colab": {
     "base_uri": "https://localhost:8080/",
     "height": 322
    },
    "colab_type": "code",
    "executionInfo": {
     "elapsed": 75071,
     "status": "ok",
     "timestamp": 1563988123368,
     "user": {
      "displayName": "Abel Tadesse",
      "photoUrl": "",
      "userId": "10318903132357287716"
     },
     "user_tz": 420
    },
    "id": "6jcgAlpkr5t5",
    "outputId": "64ce72d4-3cd1-4d8b-ff97-9fe90e72d9d8"
   },
   "outputs": [
    {
     "data": {
      "image/png": "[encoded data removed]",
      "text/plain": [
       "<Figure size 1440x288 with 22 Axes>"
      ]
     },
     "metadata": {
      "needs_background": "light"
     },
     "output_type": "display_data"
    }
   ],
   "source": [
    "n = 10 # how many images we will display\n",
    "fig, axes = plt.subplots( figsize=(20,4) , nrows=2, ncols=1, sharey=False) \n",
    "axes[0].set_title('Noisy Images', fontsize=16)\n",
    "axes[0].axis('off')\n",
    "axes[1].set_title('Denoised Images', fontsize=16)\n",
    "axes[1].axis('off')\n",
    "\n",
    "\n",
    "\n",
    "for i in range(n):\n",
    "    # display noisy images\n",
    "    ax = fig.add_subplot(2, n, i + 1)\n",
    "    ax.get_xaxis().set_visible(False)\n",
    "    ax.get_yaxis().set_visible(False)\n",
    "    plt.imshow(x_test_n[i].reshape(28, 28))\n",
    "    plt.gray()\n",
    "    \n",
    "    # display denoised images\n",
    "    ax = fig.add_subplot(2, n, i + 1 + n)\n",
    "    plt.imshow(preds[i].reshape(28, 28))\n",
    "    plt.gray()\n",
    "    ax.get_xaxis().set_visible(False)\n",
    "    ax.get_yaxis().set_visible(False)\n",
    "\n",
    "fig.tight_layout()\n",
    "plt.show()"
   ]
  }
 ],
 "metadata": {
  "accelerator": "GPU",
  "colab": {
   "collapsed_sections": [
    "copyright"
   ],
   "name": "Autoencoders.ipynb",
   "provenance": [],
   "toc_visible": true,
   "version": "0.3.2"
  },
  "kernelspec": {
   "display_name": "Python 3",
   "language": "python",
   "name": "python3"
  },
  "language_info": {
   "codemirror_mode": {
    "name": "ipython",
    "version": 3
   },
   "file_extension": ".py",
   "mimetype": "text/x-python",
   "name": "python",
   "nbconvert_exporter": "python",
   "pygments_lexer": "ipython3",
   "version": "3.6.8"
  }
 },
 "nbformat": 4,
 "nbformat_minor": 1
}
